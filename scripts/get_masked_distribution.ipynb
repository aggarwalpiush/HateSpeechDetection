{
 "cells": [
  {
   "cell_type": "code",
   "execution_count": 69,
   "metadata": {},
   "outputs": [
    {
     "name": "stdout",
     "output_type": "stream",
     "text": [
      "Collecting matplotlib\n",
      "\u001b[?25l  Downloading https://files.pythonhosted.org/packages/87/a6/8d7d06f6b69236a3c1818157875ceb1259ba0d9df4194f4fe138ffdc0f41/matplotlib-3.3.2-cp37-cp37m-manylinux1_x86_64.whl (11.6MB)\n",
      "\u001b[K     |████████████████████████████████| 11.6MB 2.4MB/s eta 0:00:01    |█████████████████████████▎      | 9.1MB 4.7MB/s eta 0:00:01\n",
      "\u001b[?25hCollecting numpy>=1.15 (from matplotlib)\n",
      "\u001b[?25l  Downloading https://files.pythonhosted.org/packages/a5/bb/87d668b353848b93baab0a64cddf6408c40717f099539668c3d26fe39f7e/numpy-1.19.4-cp37-cp37m-manylinux2010_x86_64.whl (14.5MB)\n",
      "\u001b[K     |████████████████████████████████| 14.5MB 813kB/s eta 0:00:01\n",
      "\u001b[?25hCollecting pyparsing!=2.0.4,!=2.1.2,!=2.1.6,>=2.0.3 (from matplotlib)\n",
      "\u001b[?25l  Downloading https://files.pythonhosted.org/packages/8a/bb/488841f56197b13700afd5658fc279a2025a39e22449b7cf29864669b15d/pyparsing-2.4.7-py2.py3-none-any.whl (67kB)\n",
      "\u001b[K     |████████████████████████████████| 71kB 11.3MB/s eta 0:00:01\n",
      "\u001b[?25hCollecting kiwisolver>=1.0.1 (from matplotlib)\n",
      "\u001b[?25l  Downloading https://files.pythonhosted.org/packages/d2/46/231de802ade4225b76b96cffe419cf3ce52bbe92e3b092cf12db7d11c207/kiwisolver-1.3.1-cp37-cp37m-manylinux1_x86_64.whl (1.1MB)\n",
      "\u001b[K     |████████████████████████████████| 1.1MB 8.7MB/s eta 0:00:01\n",
      "\u001b[?25hCollecting pillow>=6.2.0 (from matplotlib)\n",
      "\u001b[?25l  Downloading https://files.pythonhosted.org/packages/af/fa/c1302a26d5e1a17fa8e10e43417b6cf038b0648c4b79fcf2302a4a0c5d30/Pillow-8.0.1-cp37-cp37m-manylinux1_x86_64.whl (2.2MB)\n",
      "\u001b[K     |████████████████████████████████| 2.2MB 13.7MB/s eta 0:00:01\n",
      "\u001b[?25hRequirement already satisfied: python-dateutil>=2.1 in /snap/jupyter/6/lib/python3.7/site-packages (from matplotlib) (2.8.0)\n",
      "Collecting certifi>=2020.06.20 (from matplotlib)\n",
      "\u001b[?25l  Downloading https://files.pythonhosted.org/packages/5e/c4/6c4fe722df5343c33226f0b4e0bb042e4dc13483228b4718baf286f86d87/certifi-2020.6.20-py2.py3-none-any.whl (156kB)\n",
      "\u001b[K     |████████████████████████████████| 163kB 7.4MB/s eta 0:00:01\n",
      "\u001b[?25hCollecting cycler>=0.10 (from matplotlib)\n",
      "  Downloading https://files.pythonhosted.org/packages/f7/d2/e07d3ebb2bd7af696440ce7e754c59dd546ffe1bbe732c8ab68b9c834e61/cycler-0.10.0-py2.py3-none-any.whl\n",
      "Requirement already satisfied: six>=1.5 in /snap/jupyter/6/lib/python3.7/site-packages (from python-dateutil>=2.1->matplotlib) (1.12.0)\n",
      "Installing collected packages: numpy, pyparsing, kiwisolver, pillow, certifi, cycler, matplotlib\n",
      "Successfully installed certifi-2020.6.20 cycler-0.10.0 kiwisolver-1.3.1 matplotlib-3.3.2 numpy-1.19.4 pillow-8.0.1 pyparsing-2.4.7\n"
     ]
    }
   ],
   "source": [
    "import sys\n",
    "!pip install matplotlib"
   ]
  },
  {
   "cell_type": "code",
   "execution_count": 1,
   "metadata": {},
   "outputs": [],
   "source": [
    "import re\n",
    "import codecs\n",
    "import string\n",
    "from nltk.tokenize import TweetTokenizer"
   ]
  },
  {
   "cell_type": "code",
   "execution_count": 2,
   "metadata": {},
   "outputs": [],
   "source": [
    "filename = \"../dictionaries/masked_wordlist.txt\""
   ]
  },
  {
   "cell_type": "code",
   "execution_count": 3,
   "metadata": {},
   "outputs": [],
   "source": [
    "word_list = []\n",
    "tw = TweetTokenizer()\n",
    "'!\"#$%&\\'()*+,-./:;<=>?@[\\\\]^_`{|}~'\n",
    "with codecs.open(filename, 'r', 'utf-8') as in_obj:\n",
    "    for line in in_obj:\n",
    "        line = line.strip().replace('\\n','').replace('\\r', '').split('\\t')[0].replace('.','')\n",
    "        tokens = tw.tokenize(line)\n",
    "        for tok in tokens:\n",
    "            if not tok == \"*\" :\n",
    "                word_list.append(line.strip('\\'!\\\"#$%&\\'()+,-./:;<=>?@[\\\\]^_`{|}~\\''))\n",
    "#word_list = set(word_list)"
   ]
  },
  {
   "cell_type": "code",
   "execution_count": 4,
   "metadata": {},
   "outputs": [],
   "source": [
    "import math\n"
   ]
  },
  {
   "cell_type": "code",
   "execution_count": 6,
   "metadata": {
    "scrolled": false
   },
   "outputs": [],
   "source": [
    "end_asterisk = []\n",
    "start_asterisk = []\n",
    "start_end_asterisk = []\n",
    "middle_asterisk = []\n",
    "asterisk_butfirst_charcater = []\n",
    "fuck_ck_asterisk = []\n",
    "fuck_uc_asterisk = []\n",
    "vowel_asterik = []\n",
    "ass_ss_arse_rs_asterik = []\n",
    "unrecognized = []\n",
    "for word in word_list:\n",
    "    middle_index = math.ceil(len(word)/2)\n",
    "    if re.findall(r\"^[0-9a-zA-Z]+[*]?$\", word):\n",
    "        end_asterisk.append(word)\n",
    "    elif re.findall(r\"^[*]?[0-9a-zA-Z]+$\", word):\n",
    "        start_asterisk.append(word)\n",
    "    elif re.findall(r\"^[*][0-9a-zA-Z]+[*]$\", word):\n",
    "        start_end_asterisk.append(word)\n",
    "    elif len(word) > 2 and re.findall(r\"^[0-9a-zA-Z][*][0-9a-zA-Z]$\", ''.join(word[middle_index-2:middle_index+1])):\n",
    "        middle_asterisk.append(word)\n",
    "    elif re.findall(r\"^[0-9a-zA-Z][*]+$\", word):\n",
    "        asterisk_butfirst_charcater.append(word)\n",
    "    elif re.findall(r\"^[0-9a-zA-Z]*[fuFU]+[*]+[0-9a-zA-Z]*$\", word):\n",
    "         fuck_uc_asterisk.append(word)\n",
    "    elif re.findall(r\"^[0-9a-zA-Z]*[fF]+[*]+[kK]+[0-9a-zA-Z]*$\", word):\n",
    "         fuck_ck_asterisk.append(word)\n",
    "    elif re.findall(r\"^[0-9a-zA-Z]*[aA]+[*][*][0-9a-zA-Z]*$\", word):\n",
    "         ass_ss_arse_rs_asterik.append(word)\n",
    "    elif word.lower() in [x.lower() for x in ['F*CK', 'D*ck', 'k*ke', 'sh*thole', 'ho*s', 'b*tch', 'SH*T', 'f*g', '“F*cking', 'B*llshit', \n",
    "                 'c*ck', 'f*ck', 'F*CK']] or 'sh*t' in word.lower():\n",
    "        vowel_asterik.append(word)\n",
    "    else:\n",
    "        unrecognized.append(word)\n"
   ]
  },
  {
   "cell_type": "code",
   "execution_count": 12,
   "metadata": {},
   "outputs": [
    {
     "name": "stderr",
     "output_type": "stream",
     "text": [
      "No handles with labels found to put in legend.\n"
     ]
    },
    {
     "data": {
      "image/png": "[encoded data removed]",
      "text/plain": [
       "<Figure size 432x288 with 1 Axes>"
      ]
     },
     "metadata": {
      "needs_background": "light"
     },
     "output_type": "display_data"
    }
   ],
   "source": [
    "import matplotlib.pyplot as plt\n",
    "\n",
    "# Pass the x and y cordinates of the bars to the\n",
    "# function. The label argument gives a label to the data.\n",
    "plt.bar(['researche*', '*esearcher', '*esearche*', 'resea*cher','r*********', 'fu**', 'f**k', 'r*s**ch*r', 'a**', 'unrecognized'],\n",
    "        [len(end_asterisk), len(start_asterisk), len(start_end_asterisk), len(middle_asterisk),\n",
    "                         len(asterisk_butfirst_charcater), len(fuck_ck_asterisk), len(fuck_uc_asterisk), \n",
    "         len(vowel_asterik),len(ass_ss_arse_rs_asterik), len(unrecognized)] )\n",
    "plt.legend()\n",
    "\n",
    "# The following commands add labels to our figure.\n",
    "plt.xlabel('masking_type')\n",
    "plt.ylabel('count#')\n",
    "plt.title('Distribution of different kind of masking used in tweets collected from 89934 samples')\n",
    "plt.xticks(rotation=90)\n",
    "\n",
    "plt.show()"
   ]
  },
  {
   "cell_type": "code",
   "execution_count": 13,
   "metadata": {},
   "outputs": [
    {
     "name": "stdout",
     "output_type": "stream",
     "text": [
      "Collecting PyLeet\n",
      "  Downloading https://files.pythonhosted.org/packages/83/0c/310b1979bd47220ccaa366e793abf39e50ef8e54bbc395ab29565bb98f60/PyLeet-0.1.zip\n",
      "Building wheels for collected packages: PyLeet\n",
      "  Building wheel for PyLeet (setup.py) ... \u001b[?25ldone\n",
      "\u001b[?25h  Stored in directory: /home/aggarwalpiush/snap/jupyter/6/.cache/pip/wheels/2b/28/2b/dd278130baada7831a4d5587a321c656238cff1b6183addd61\n",
      "Successfully built PyLeet\n",
      "Installing collected packages: PyLeet\n",
      "Successfully installed PyLeet-0.1\n"
     ]
    }
   ],
   "source": [
    "!pip install PyLeet"
   ]
  },
  {
   "cell_type": "code",
   "execution_count": 19,
   "metadata": {},
   "outputs": [
    {
     "name": "stdout",
     "output_type": "stream",
     "text": [
      "L33t Sp34k C0nv3rt3r!\n",
      "C0nv3rt3d t0 133t 5p34k!\n"
     ]
    }
   ],
   "source": [
    "def leet(text):\n",
    "    getchar = lambda c: chars[c] if c in chars else c\n",
    "    chars = {\"a\":\"4\",\"e\":\"3\",\"l\":\"1\",\"o\":\"0\",\"s\":\"5\"}\n",
    "    return ''.join(getchar(c) for c in text)\n",
    "\n",
    "print(leet(\"Leet Speak Converter!\"))\n",
    "print(leet(\"Converted to leet speak!\"))"
   ]
  }
 ],
 "metadata": {
  "kernelspec": {
   "display_name": "Python 3",
   "language": "python",
   "name": "python3"
  },
  "language_info": {
   "codemirror_mode": {
    "name": "ipython",
    "version": 3
   },
   "file_extension": ".py",
   "mimetype": "text/x-python",
   "name": "python",
   "nbconvert_exporter": "python",
   "pygments_lexer": "ipython3",
   "version": "3.7.3"
  }
 },
 "nbformat": 4,
 "nbformat_minor": 2
}
